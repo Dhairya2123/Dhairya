{
 "cells": [
  {
   "cell_type": "markdown",
   "id": "2372dff2",
   "metadata": {},
   "source": [
    "# Data Science Tools and Ecosystem"
   ]
  },
  {
   "cell_type": "markdown",
   "id": "9bf405d2",
   "metadata": {},
   "source": [
    "In this notebook, Data Science Tools and Ecosystem are summarized."
   ]
  },
  {
   "cell_type": "markdown",
   "id": "e3d80a00",
   "metadata": {},
   "source": [
    "### Objectives:\n",
    "1) Problem Statement:-The first step of data analysis is understanding the problem statement. In this stage, no such programming skills are required. Instead, in this step, one must figure out the required tools and software.\n",
    "\n",
    "2) Obtaining Data:-Now and then, someone fills the form and gives away their data. So, there is no shortage of data, but the issue is the quality of data to be retrieved. For this, programmers have to use coding skills like SQL and NoSQL. \n",
    "\n",
    "3) Cleaning Data:-After gathering all essential data, the data must be cleansed. Data scientists can clean data using programming languages such as R and Python. Softwares like Trifecta Wrangler and OpenRefine also come in handy in these processes."
   ]
  },
  {
   "cell_type": "markdown",
   "id": "80032b30",
   "metadata": {},
   "source": [
    "Some of the popular languages that Data Scientists use are:\n",
    "1) Python<br>\n",
    "2) R<br>\n",
    "3) SQL<br>"
   ]
  },
  {
   "cell_type": "markdown",
   "id": "0b3b3106",
   "metadata": {},
   "source": [
    "Some of the commonly used libraries used by Data Scientists include:\n",
    "1) Pandas<br>\n",
    "2) Numpy<br>\n",
    "3) Matplotlib<br>"
   ]
  },
  {
   "cell_type": "markdown",
   "id": "b232227a",
   "metadata": {},
   "source": [
    "Below are a few examples of evaluating arithmetic expressions in Python"
   ]
  },
  {
   "cell_type": "code",
   "execution_count": 2,
   "id": "20ecb11d",
   "metadata": {},
   "outputs": [
    {
     "name": "stdout",
     "output_type": "stream",
     "text": [
      "17\n"
     ]
    }
   ],
   "source": [
    "print((3*4)+5)\n",
    "# This a simple arithmetic expression to mutiply then add integers"
   ]
  },
  {
   "cell_type": "code",
   "execution_count": 4,
   "id": "03e46598",
   "metadata": {},
   "outputs": [
    {
     "name": "stdout",
     "output_type": "stream",
     "text": [
      "3.3333333333333335 hrs\n"
     ]
    }
   ],
   "source": [
    "print(200*(1/60),'hrs')\n",
    "# This will convert 200 minutes to hours by diving by 60"
   ]
  },
  {
   "cell_type": "markdown",
   "id": "3049f300",
   "metadata": {},
   "source": [
    "## Dhairya Anand"
   ]
  },
  {
   "cell_type": "code",
   "execution_count": null,
   "id": "23f77308",
   "metadata": {},
   "outputs": [],
   "source": []
  }
 ],
 "metadata": {
  "kernelspec": {
   "display_name": "Python 3 (ipykernel)",
   "language": "python",
   "name": "python3"
  },
  "language_info": {
   "codemirror_mode": {
    "name": "ipython",
    "version": 3
   },
   "file_extension": ".py",
   "mimetype": "text/x-python",
   "name": "python",
   "nbconvert_exporter": "python",
   "pygments_lexer": "ipython3",
   "version": "3.9.13"
  }
 },
 "nbformat": 4,
 "nbformat_minor": 5
}
